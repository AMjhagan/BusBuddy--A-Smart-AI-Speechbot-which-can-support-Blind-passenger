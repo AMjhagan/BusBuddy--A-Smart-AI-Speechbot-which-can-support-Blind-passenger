{
 "cells": [
  {
   "cell_type": "markdown",
   "id": "jIA7O2ujo80Y",
   "metadata": {
    "id": "jIA7O2ujo80Y"
   },
   "source": [
    "# Import packages\n",
    "\n",
    "---\n",
    "\n"
   ]
  },
  {
   "cell_type": "code",
   "execution_count": null,
   "id": "faa2cc36",
   "metadata": {
    "id": "faa2cc36"
   },
   "outputs": [],
   "source": [
    "import speech_recognition as sr\n",
    "from gtts import gTTS\n",
    "import transformers\n",
    "from transformers import pipeline\n",
    "import time\n",
    "import os\n",
    "import datetime\n",
    "import numpy as np"
   ]
  },
  {
   "cell_type": "markdown",
   "id": "D7_aUsJHpF4E",
   "metadata": {
    "id": "D7_aUsJHpF4E"
   },
   "source": [
    "# Pre-pocessing and Corpus creation "
   ]
  },
  {
   "cell_type": "code",
   "execution_count": null,
   "id": "dc5f1b2c",
   "metadata": {
    "id": "dc5f1b2c",
    "outputId": "ed2f937f-1a50-4708-949b-0000326ed938",
    "scrolled": true
   },
   "outputs": [
    {
     "data": {
      "text/html": [
       "<div>\n",
       "<style scoped>\n",
       "    .dataframe tbody tr th:only-of-type {\n",
       "        vertical-align: middle;\n",
       "    }\n",
       "\n",
       "    .dataframe tbody tr th {\n",
       "        vertical-align: top;\n",
       "    }\n",
       "\n",
       "    .dataframe thead th {\n",
       "        text-align: right;\n",
       "    }\n",
       "</style>\n",
       "<table border=\"1\" class=\"dataframe\">\n",
       "  <thead>\n",
       "    <tr style=\"text-align: right;\">\n",
       "      <th></th>\n",
       "      <th>From</th>\n",
       "      <th>To</th>\n",
       "      <th>Departure Time</th>\n",
       "      <th>Arrival Time</th>\n",
       "    </tr>\n",
       "  </thead>\n",
       "  <tbody>\n",
       "    <tr>\n",
       "      <th>0</th>\n",
       "      <td>india</td>\n",
       "      <td>india</td>\n",
       "      <td>1:00 AM</td>\n",
       "      <td>2:00AM</td>\n",
       "    </tr>\n",
       "    <tr>\n",
       "      <th>1</th>\n",
       "      <td>india</td>\n",
       "      <td>india</td>\n",
       "      <td>2:00 AM</td>\n",
       "      <td>3:00AM</td>\n",
       "    </tr>\n",
       "    <tr>\n",
       "      <th>2</th>\n",
       "      <td>Rwanda</td>\n",
       "      <td>Switzerland</td>\n",
       "      <td>2:51 AM</td>\n",
       "      <td>8:13 AM</td>\n",
       "    </tr>\n",
       "    <tr>\n",
       "      <th>3</th>\n",
       "      <td>United Kingdom</td>\n",
       "      <td>United States Minor Outlying Islands</td>\n",
       "      <td>9:58 AM</td>\n",
       "      <td>3:39 PM</td>\n",
       "    </tr>\n",
       "    <tr>\n",
       "      <th>4</th>\n",
       "      <td>United Arab Emirates</td>\n",
       "      <td>Bangladesh</td>\n",
       "      <td>6:22 PM</td>\n",
       "      <td>11:55 PM</td>\n",
       "    </tr>\n",
       "    <tr>\n",
       "      <th>...</th>\n",
       "      <td>...</td>\n",
       "      <td>...</td>\n",
       "      <td>...</td>\n",
       "      <td>...</td>\n",
       "    </tr>\n",
       "    <tr>\n",
       "      <th>236</th>\n",
       "      <td>Qatar</td>\n",
       "      <td>Bouvet Island</td>\n",
       "      <td>1:30 AM</td>\n",
       "      <td>4:49 AM</td>\n",
       "    </tr>\n",
       "    <tr>\n",
       "      <th>237</th>\n",
       "      <td>Mozambique</td>\n",
       "      <td>Guyana</td>\n",
       "      <td>2:49 AM</td>\n",
       "      <td>3:24 AM</td>\n",
       "    </tr>\n",
       "    <tr>\n",
       "      <th>238</th>\n",
       "      <td>United Arab Emirates</td>\n",
       "      <td>Liechtenstein</td>\n",
       "      <td>11:05 AM</td>\n",
       "      <td>11:25 AM</td>\n",
       "    </tr>\n",
       "    <tr>\n",
       "      <th>239</th>\n",
       "      <td>Cuba</td>\n",
       "      <td>Yemen</td>\n",
       "      <td>10:17 AM</td>\n",
       "      <td>12:14 PM</td>\n",
       "    </tr>\n",
       "    <tr>\n",
       "      <th>240</th>\n",
       "      <td>Hungary</td>\n",
       "      <td>Guyana</td>\n",
       "      <td>8:25 AM</td>\n",
       "      <td>10:50 AM</td>\n",
       "    </tr>\n",
       "  </tbody>\n",
       "</table>\n",
       "<p>241 rows × 4 columns</p>\n",
       "</div>"
      ],
      "text/plain": [
       "                     From                                    To  \\\n",
       "0                   india                                 india   \n",
       "1                   india                                 india   \n",
       "2                  Rwanda                           Switzerland   \n",
       "3          United Kingdom  United States Minor Outlying Islands   \n",
       "4    United Arab Emirates                            Bangladesh   \n",
       "..                    ...                                   ...   \n",
       "236                 Qatar                         Bouvet Island   \n",
       "237            Mozambique                                Guyana   \n",
       "238  United Arab Emirates                         Liechtenstein   \n",
       "239                  Cuba                                 Yemen   \n",
       "240               Hungary                                Guyana   \n",
       "\n",
       "    Departure Time Arrival Time  \n",
       "0          1:00 AM       2:00AM  \n",
       "1          2:00 AM       3:00AM  \n",
       "2          2:51 AM      8:13 AM  \n",
       "3          9:58 AM      3:39 PM  \n",
       "4          6:22 PM     11:55 PM  \n",
       "..             ...          ...  \n",
       "236        1:30 AM      4:49 AM  \n",
       "237        2:49 AM      3:24 AM  \n",
       "238       11:05 AM     11:25 AM  \n",
       "239       10:17 AM     12:14 PM  \n",
       "240        8:25 AM     10:50 AM  \n",
       "\n",
       "[241 rows x 4 columns]"
      ]
     },
     "execution_count": 2,
     "metadata": {},
     "output_type": "execute_result"
    }
   ],
   "source": [
    "import pandas as pd\n",
    "df=pd.read_csv(\"...Flight_Timings.csv\") #mention the path which contains the downloaded CSV file\n",
    "df"
   ]
  },
  {
   "cell_type": "code",
   "execution_count": null,
   "id": "915363cc",
   "metadata": {
    "id": "915363cc",
    "outputId": "5fa07c63-a7ef-4db5-8e0d-13fd33e59568",
    "scrolled": true
   },
   "outputs": [
    {
     "name": "stdout",
     "output_type": "stream",
     "text": [
      "Bus from india to india arrives at 2:00AM and departs at    1:00 AM. Bus from india to india arrives at 3:00AM and departs at    2:00 AM. Bus from Rwanda to Switzerland arrives at 8:13 AM and departs at 2:51 AM. Bus from UK to United States Minor Outlying Islands arrives at 3:39 PM and departs at 9:58 AM. Bus from UAE to Bangladesh arrives at 11:55 PM and departs at 6:22 PM. Bus from Mexico to Australia arrives at 12:02 PM and departs at 9:06 AM. Bus from Hungary to Angola arrives at 12:20 AM and departs at 8:55 PM. Bus from Qatar to Afghanistan arrives at 1:40 PM and departs at 7:58 AM. Bus from Jamaica to Uganda arrives at 9:26 AM and departs at 2:09 AM. Bus from Holy See (Vatican City State) to Montserrat arrives at 4:29 AM and departs at 3:45 AM. Bus from Rwanda to Angola arrives at 2:42 AM and departs at 9:31 PM. Bus from Samoa to Liechtenstein arrives at 3:22 PM and departs at 9:54 AM. Bus from Kazakhstan to Bouvet Island arrives at 3:24 AM and departs at 8:44 PM. Bus from South Georgia and the South Sandwich Islands to Liechtenstein arrives at 10:22 AM and departs at 4:52 AM. Bus from Qatar to Finland arrives at 2:38 AM and departs at 8:55 PM. Bus from Congo to Liechtenstein arrives at 3:32 PM and departs at 10:32 AM. Bus from French Guiana to Montserrat arrives at 3:43 AM and departs at 3:39 AM. Bus from Kazakhstan to Slovenia arrives at 9:07 PM and departs at 1:37 PM. Bus from Malawi to Afghanistan arrives at 9:19 AM and departs at 2:36 AM. Bus from Holy See (Vatican City State) to Yemen arrives at 3:53 PM and departs at 11:40 AM. Bus from Ethiopia to Guyana arrives at 1:29 PM and departs at 1:01 PM. Bus from Samoa to Montenegro arrives at 8:45 PM and departs at 8:13 PM. Bus from French Guiana to Kiribati arrives at 1:10 PM and departs at 8:35 AM. Bus from Mexico to Canada arrives at 9:21 PM and departs at 9:09 PM. Bus from Hungary to New Caledonia arrives at 6:03 PM and departs at 5:25 PM. Bus from UK to Finland arrives at 8:26 PM and departs at 7:56 PM. Bus from Rwanda to Kenya arrives at 12:03 PM and departs at 7:00 AM. Bus from Norway to New Caledonia arrives at 8:08 AM and departs at 3:37 AM. Bus from Bangladesh to Bangladesh arrives at 3:29 PM and departs at 12:42 PM. Bus from Qatar to Qatar arrives at 4:14 PM and departs at 3:14 PM. Bus from French Guiana to Guyana arrives at 9:47 PM and departs at 7:51 PM. Bus from Saint Kitts and Nevis to Indonesia arrives at 7:06 AM and departs at 2:57 AM. Bus from Samoa to Peru arrives at 10:00 AM and departs at 9:14 AM. Bus from Samoa to Bangladesh arrives at 9:09 AM and departs at 4:24 AM. Bus from Rwanda to Qatar arrives at 3:35 AM and departs at 11:38 PM. Bus from Qatar to Yemen arrives at 7:19 AM and departs at 2:22 AM. Bus from Yemen to New Caledonia arrives at 6:47 AM and departs at 4:32 AM. Bus from Bangladesh to Liechtenstein arrives at 10:21 PM and departs at 3:58 PM. Bus from Hungary to Montserrat arrives at 9:21 PM and departs at 1:32 PM. Bus from Cuba to Peru arrives at 10:00 PM and departs at 8:07 PM. Bus from UAE to Montenegro arrives at 2:38 PM and departs at 7:45 AM. Bus from Kazakhstan to Peru arrives at 6:47 PM and departs at 5:09 PM. Bus from Norway to Montserrat arrives at 11:42 PM and departs at 7:56 PM. Bus from French Southern Territories to Peru arrives at 2:43 AM and departs at 8:04 PM. Bus from Rwanda to Sweden arrives at 7:07 AM and departs at 5:46 AM. Bus from Chile to Afghanistan arrives at 4:29 PM and departs at 2:09 PM. Bus from Chile to Guyana arrives at 4:42 PM and departs at 8:59 AM. Bus from South Georgia and the South Sandwich Islands to United States Minor Outlying Islands arrives at 4:27 PM and departs at 11:41 AM. Bus from French Southern Territories to Liechtenstein arrives at 7:17 AM and departs at 6:38 AM. Bus from Ethiopia to New Caledonia arrives at 6:48 AM and departs at 3:54 AM. Bus from Norway to Peru arrives at 1:33 AM and departs at 6:07 PM. Bus from French Guiana to Yemen arrives at 4:15 PM and departs at 2:04 PM. Bus from Qatar to Liechtenstein arrives at 12:25 PM and departs at 4:38 AM. Bus from Jamaica to Switzerland arrives at 3:33 AM and departs at 11:28 PM. Bus from Congo to Niue arrives at 3:00 AM and departs at 11:13 PM. Bus from Rwanda to New Caledonia arrives at 6:12 AM and departs at 4:53 AM. Bus from UK to Bulgaria arrives at 9:13 AM and departs at 4:58 AM. Bus from Malawi to Bulgaria arrives at 11:18 AM and departs at 10:57 AM. Bus from Chile to Finland arrives at 3:22 AM and departs at 12:53 AM. Bus from Congo to Switzerland arrives at 8:12 AM and departs at 3:29 AM. Bus from Jamaica to Afghanistan arrives at 10:08 PM and departs at 3:03 PM. Bus from Mexico to Sweden arrives at 4:28 AM and departs at 9:54 PM. Bus from French Southern Territories to Bouvet Island arrives at 6:42 AM and departs at 3:20 AM. Bus from French Southern Territories to Guyana arrives at 4:49 AM and departs at 2:38 AM. Bus from Yemen to Uganda arrives at 7:53 AM and departs at 5:01 AM. Bus from Palau to Yemen arrives at 2:34 AM and departs at 7:28 PM. Bus from Hungary to South Georgia and the South Sandwich Islands arrives at 12:23 PM and departs at 6:51 AM. Bus from Mexico to New Caledonia arrives at 6:55 PM and departs at 2:45 PM. Bus from Bangladesh to New Caledonia arrives at 4:23 AM and departs at 2:44 AM. Bus from Saint Kitts and Nevis to New Caledonia arrives at 1:11 PM and departs at 10:33 AM. Bus from Tunisia to Canada arrives at 6:57 AM and departs at 3:55 AM. Bus from Liechtenstein to Bangladesh arrives at 7:21 AM and departs at 11:56 PM. Bus from Kazakhstan to Peru arrives at 7:15 PM and departs at 1:05 PM. Bus from Mexico to Indonesia arrives at 6:45 AM and departs at 1:24 AM. Bus from Jamaica to Bulgaria arrives at 7:31 PM and departs at 2:22 PM. Bus from Palau to Guyana arrives at 4:17 PM and departs at 2:35 PM. Bus from Rwanda to Sweden arrives at 7:59 AM and departs at 1:58 AM. Bus from Malawi to Uganda arrives at 3:47 PM and departs at 1:52 PM. Bus from Samoa to Qatar arrives at 4:29 PM and departs at 8:58 AM. Bus from Mexico to Bouvet Island arrives at 2:44 PM and departs at 9:04 AM. Bus from Cuba to Montenegro arrives at 7:15 AM and departs at 4:45 AM. Bus from Bangladesh to Peru arrives at 6:13 PM and departs at 11:16 AM. Bus from Holy See (Vatican City State) to Finland arrives at 11:53 PM and departs at 11:47 PM. Bus from Cuba to Finland arrives at 1:24 AM and departs at 10:31 PM. Bus from Palau to Montserrat arrives at 6:00 PM and departs at 5:19 PM. Bus from Yemen to Angola arrives at 1:49 AM and departs at 8:17 PM. Bus from Qatar to Switzerland arrives at 1:02 PM and departs at 6:54 AM. Bus from Tunisia to Montenegro arrives at 3:07 PM and departs at 11:53 AM. Bus from South Georgia and the South Sandwich Islands to Indonesia arrives at 1:45 PM and departs at 12:18 PM. Bus from Palau to Bouvet Island arrives at 2:26 AM and departs at 10:22 PM. Bus from UAE to Peru arrives at 8:32 PM and departs at 12:51 PM. Bus from Mexico to South Georgia and the South Sandwich Islands arrives at 1:37 AM and departs at 7:56 PM. Bus from Holy See (Vatican City State) to South Georgia and the South Sandwich Islands arrives at 2:56 AM and departs at 11:23 PM. Bus from Yemen to Niue arrives at 7:19 PM and departs at 6:03 PM. Bus from South Georgia and the South Sandwich Islands to Sweden arrives at 7:13 AM and departs at 1:18 AM. Bus from Hungary to Angola arrives at 11:24 AM and departs at 6:41 AM. Bus from Holy See (Vatican City State) to Qatar arrives at 9:38 AM and departs at 2:35 AM. Bus from Ethiopia to Indonesia arrives at 3:56 AM and departs at 11:11 PM. Bus from UAE to Finland arrives at 5:27 AM and departs at 1:04 AM. Bus from French Guiana to Finland arrives at 2:29 PM and departs at 12:19 PM. Bus from Hungary to United States Minor Outlying Islands arrives at 5:39 PM and departs at 1:53 PM. Bus from Malawi to Uganda arrives at 7:06 PM and departs at 4:27 PM. Bus from Yemen to Kiribati arrives at 3:51 AM and departs at 2:30 AM. Bus from Holy See (Vatican City State) to Bangladesh arrives at 3:45 PM and departs at 11:21 AM. Bus from Bangladesh to United States Minor Outlying Islands arrives at 11:53 AM and departs at 6:11 AM. Bus from UK to Bulgaria arrives at 12:12 PM and departs at 7:14 AM. Bus from Yemen to South Georgia and the South Sandwich Islands arrives at 4:28 PM and departs at 2:04 PM. Bus from Congo to Bouvet Island arrives at 2:08 AM and departs at 8:17 PM. Bus from Cuba to Qatar arrives at 3:43 PM and departs at 12:38 PM. Bus from Yemen to Australia arrives at 10:20 AM and departs at 3:12 AM. Bus from French Southern Territories to Peru arrives at 2:58 PM and departs at 9:33 AM. Bus from Rwanda to Kenya arrives at 8:35 AM and departs at 1:10 AM. Bus from Chile to Montserrat arrives at 1:36 AM and departs at 6:34 PM. Bus from Jamaica to Sweden arrives at 10:53 PM and departs at 8:19 PM. Bus from Yemen to Kiribati arrives at 7:03 PM and departs at 5:06 PM. Bus from Yemen to Uganda arrives at 11:24 AM and departs at 6:44 AM. Bus from Ethiopia to United States Minor Outlying Islands arrives at 2:16 AM and departs at 11:28 PM. Bus from Ethiopia to Australia arrives at 4:42 PM and departs at 3:06 PM. Bus from Cuba to Montenegro arrives at 2:15 PM and departs at 10:35 AM. Bus from Hungary to Peru arrives at 5:41 PM and departs at 2:23 PM. Bus from Ethiopia to Bouvet Island arrives at 12:49 PM and departs at 8:50 AM. Bus from Chile to Bangladesh arrives at 11:00 PM and departs at 8:22 PM. Bus from Congo to Montserrat arrives at 6:21 PM and departs at 2:59 PM. Bus from Tunisia to Qatar arrives at 11:31 AM and departs at 7:04 AM. Bus from Jamaica to Peru arrives at 12:00 AM and departs at 8:59 PM. Bus from Bangladesh to Switzerland arrives at 10:59 AM and departs at 8:31 AM. Bus from Mauritania to Angola arrives at 9:42 AM and departs at 3:05 AM. Bus from Samoa to South Georgia and the South Sandwich Islands arrives at 3:59 PM and departs at 10:35 AM. Bus from Chile to Canada arrives at 1:04 AM and departs at 8:24 PM. Bus from Qatar to Afghanistan arrives at 3:47 PM and departs at 3:32 PM. Bus from Mexico to Afghanistan arrives at 9:10 AM and departs at 4:41 AM. Bus from Yemen to Montserrat arrives at 9:45 AM and departs at 5:40 AM. Bus from Saint Kitts and Nevis to South Georgia and the South Sandwich Islands arrives at 8:08 AM and departs at 3:25 AM. Bus from South Georgia and the South Sandwich Islands to Indonesia arrives at 9:01 PM and departs at 3:48 PM. Bus from Liechtenstein to Finland arrives at 2:40 PM and departs at 11:25 AM. Bus from UAE to Yemen arrives at 9:44 AM and departs at 5:33 AM. Bus from South Georgia and the South Sandwich Islands to Yemen arrives at 3:22 PM and departs at 1:55 PM. Bus from Mauritania to Bouvet Island arrives at 9:47 PM and departs at 4:28 PM. Bus from Norway to Montserrat arrives at 2:09 AM and departs at 6:24 PM. Bus from Kazakhstan to United States Minor Outlying Islands arrives at 9:35 AM and departs at 1:55 AM. Bus from Bangladesh to Indonesia arrives at 8:05 PM and departs at 4:54 PM. Bus from Mauritania to Peru arrives at 12:02 PM and departs at 4:15 AM. Bus from Rwanda to Kiribati arrives at 5:22 AM and departs at 2:37 AM. Bus from French Southern Territories to Qatar arrives at 9:14 AM and departs at 6:23 AM. Bus from Mexico to Peru arrives at 3:53 PM and departs at 10:10 AM. Bus from Mexico to Guyana arrives at 12:19 PM and departs at 5:03 AM. Bus from Liechtenstein to Peru arrives at 5:47 AM and departs at 10:31 PM. Bus from Holy See (Vatican City State) to South Georgia and the South Sandwich Islands arrives at 9:00 PM and departs at 1:56 PM. Bus from Mauritania to Indonesia arrives at 7:59 AM and departs at 7:13 AM. Bus from Liechtenstein to Finland arrives at 4:03 AM and departs at 9:24 PM. Bus from Congo to Montenegro arrives at 10:26 AM and departs at 4:58 AM. Bus from Jamaica to Sweden arrives at 9:12 AM and departs at 8:06 AM. Bus from Norway to Slovenia arrives at 2:55 PM and departs at 1:42 PM. Bus from Congo to Peru arrives at 8:56 AM and departs at 5:53 AM. Bus from Saint Kitts and Nevis to Peru arrives at 10:31 PM and departs at 6:46 PM. Bus from Saint Kitts and Nevis to Niue arrives at 2:07 PM and departs at 12:54 PM. Bus from Norway to Bangladesh arrives at 3:32 AM and departs at 2:52 AM. Bus from Kazakhstan to Bulgaria arrives at 11:09 AM and departs at 10:28 AM. Bus from Ethiopia to United States Minor Outlying Islands arrives at 7:14 PM and departs at 2:33 PM. Bus from Cuba to Guyana arrives at 5:35 PM and departs at 11:09 AM. Bus from Holy See (Vatican City State) to Switzerland arrives at 11:00 PM and departs at 9:07 PM. Bus from Kazakhstan to New Caledonia arrives at 10:42 PM and departs at 9:22 PM. Bus from Cuba to Australia arrives at 8:56 PM and departs at 4:29 PM. Bus from Liechtenstein to Uganda arrives at 2:08 PM and departs at 12:22 PM. Bus from Mexico to New Caledonia arrives at 5:57 AM and departs at 3:01 AM. Bus from Liechtenstein to United States Minor Outlying Islands arrives at 4:13 AM and departs at 10:54 PM. Bus from Kazakhstan to South Georgia and the South Sandwich Islands arrives at 10:50 PM and departs at 8:31 PM. Bus from Liechtenstein to Montserrat arrives at 12:44 PM and departs at 7:51 AM. Bus from Yemen to Bangladesh arrives at 4:27 PM and departs at 10:11 AM. Bus from Malawi to Indonesia arrives at 8:42 AM and departs at 2:53 AM. Bus from Malawi to Indonesia arrives at 10:20 AM and departs at 3:38 AM. Bus from Kazakhstan to Canada arrives at 2:09 AM and departs at 8:07 PM. Bus from Samoa to Canada arrives at 8:18 PM and departs at 5:58 PM. Bus from Mexico to Bangladesh arrives at 3:03 AM and departs at 12:27 AM. Bus from South Georgia and the South Sandwich Islands to Indonesia arrives at 2:34 AM and departs at 9:27 PM. Bus from Qatar to Niue arrives at 4:43 AM and departs at 12:08 AM. Bus from Rwanda to Qatar arrives at 12:59 PM and departs at 7:37 AM. Bus from Jamaica to Yemen arrives at 10:55 PM and departs at 5:07 PM. Bus from Samoa to Kenya arrives at 4:41 PM and departs at 10:46 AM. Bus from Hungary to Montenegro arrives at 3:54 AM and departs at 10:20 PM. Bus from Bangladesh to Afghanistan arrives at 12:01 AM and departs at 7:37 PM. Bus from Qatar to Indonesia arrives at 2:26 AM and departs at 11:23 PM. Bus from Norway to Liechtenstein arrives at 3:06 AM and departs at 9:00 PM. Bus from Samoa to New Caledonia arrives at 6:15 AM and departs at 2:19 AM. Bus from Malawi to Bulgaria arrives at 2:46 AM and departs at 8:04 PM. Bus from Holy See (Vatican City State) to Switzerland arrives at 4:39 PM and departs at 11:51 AM. Bus from South Georgia and the South Sandwich Islands to Indonesia arrives at 11:48 AM and departs at 7:23 AM. Bus from Samoa to Bangladesh arrives at 5:27 PM and departs at 1:04 PM. Bus from South Georgia and the South Sandwich Islands to Slovenia arrives at 8:52 AM and departs at 5:34 AM. Bus from French Southern Territories to Liechtenstein arrives at 6:39 PM and departs at 5:54 PM. Bus from Mauritania to Canada arrives at 2:14 PM and departs at 12:11 PM. Bus from Cuba to Yemen arrives at 11:27 PM and departs at 5:52 PM. Bus from Ethiopia to Kenya arrives at 1:36 PM and departs at 12:06 PM. Bus from Chile to Switzerland arrives at 6:10 PM and departs at 3:36 PM. Bus from Saint Kitts and Nevis to Kenya arrives at 9:52 AM and departs at 3:56 AM. Bus from Rwanda to Montenegro arrives at 10:19 AM and departs at 6:50 AM. Bus from Mexico to Bulgaria arrives at 2:09 AM and departs at 12:53 AM. Bus from Liechtenstein to Qatar arrives at 5:05 PM and departs at 11:33 AM. Bus from Rwanda to Niue arrives at 5:53 AM and departs at 5:45 AM. Bus from French Southern Territories to Bulgaria arrives at 11:16 PM and departs at 8:34 PM. Bus from Kazakhstan to Guyana arrives at 10:13 PM and departs at 6:06 PM. Bus from Kazakhstan to Kenya arrives at 5:41 PM and departs at 12:54 PM. Bus from Congo to Kiribati arrives at 9:31 AM and departs at 6:03 AM. Bus from Mexico to Kiribati arrives at 4:13 PM and departs at 3:13 PM. Bus from Tunisia to South Georgia and the South Sandwich Islands arrives at 10:16 PM and departs at 4:19 PM. Bus from Kazakhstan to Peru arrives at 8:16 PM and departs at 6:05 PM. Bus from Mexico to Kiribati arrives at 4:21 PM and departs at 12:49 PM. Bus from Mozambique to Qatar arrives at 10:03 AM and departs at 3:10 AM. Bus from Norway to Uganda arrives at 2:26 AM and departs at 9:36 PM. Bus from Congo to Kiribati arrives at 8:50 AM and departs at 3:14 AM. Bus from South Georgia and the South Sandwich Islands to Liechtenstein arrives at 7:52 AM and departs at 12:06 AM. Bus from Malawi to Australia arrives at 10:03 AM and departs at 9:52 AM. Bus from South Georgia and the South Sandwich Islands to Guyana arrives at 11:47 AM and departs at 6:27 AM. Bus from Yemen to Qatar arrives at 9:17 AM and departs at 4:35 AM. Bus from Rwanda to Indonesia arrives at 2:45 PM and departs at 1:27 PM. Bus from Malawi to New Caledonia arrives at 10:11 PM and departs at 3:25 PM. Bus from Tunisia to Australia arrives at 9:14 PM and departs at 6:51 PM. Bus from Cuba to Montenegro arrives at 11:06 AM and departs at 6:06 AM. Bus from Ethiopia to Switzerland arrives at 9:54 AM and departs at 8:27 AM. Bus from Palau to Sweden arrives at 4:45 PM and departs at 4:15 PM. Bus from Holy See (Vatican City State) to Bouvet Island arrives at 4:46 PM and departs at 1:30 PM. Bus from Bangladesh to Afghanistan arrives at 8:01 PM and departs at 6:22 PM. Bus from Mozambique to Bouvet Island arrives at 11:19 AM and departs at 9:27 AM. Bus from Jamaica to New Caledonia arrives at 3:02 AM and departs at 11:36 PM. Bus from Holy See (Vatican City State) to Montserrat arrives at 12:07 PM and departs at 8:13 AM. Bus from Bangladesh to Switzerland arrives at 5:03 AM and departs at 10:32 PM. Bus from Chile to Qatar arrives at 7:20 PM and departs at 12:35 PM. Bus from Jamaica to Bangladesh arrives at 2:59 AM and departs at 10:29 PM. Bus from South Georgia and the South Sandwich Islands to Guyana arrives at 12:02 AM and departs at 9:31 PM. Bus from Mozambique to Canada arrives at 7:49 AM and departs at 2:46 AM. Bus from Malawi to Liechtenstein arrives at 6:25 AM and departs at 12:34 AM. Bus from Mozambique to Indonesia arrives at 3:01 AM and departs at 12:31 AM. Bus from Mauritania to Indonesia arrives at 5:06 AM and departs at 1:48 AM. Bus from Yemen to Guyana arrives at 4:37 PM and departs at 9:20 AM. Bus from French Southern Territories to Bulgaria arrives at 8:45 AM and departs at 6:11 AM. Bus from Jamaica to Peru arrives at 12:25 PM and departs at 7:56 AM. Bus from Qatar to Bouvet Island arrives at 4:49 AM and departs at 1:30 AM. Bus from Mozambique to Guyana arrives at 3:24 AM and departs at 2:49 AM. Bus from UAE to Liechtenstein arrives at 11:25 AM and departs at 11:05 AM. Bus from Cuba to Yemen arrives at 12:14 PM and departs at 10:17 AM. Bus from Hungary to Guyana arrives at 10:50 AM and departs at 8:25 AM. \n"
     ]
    }
   ],
   "source": [
    "#Converting tabular dataset into sentences\n",
    "record1=\"\"\n",
    "\n",
    "# For a better recognition and easier pronunciation, we abbreviate some data.\n",
    "for i in range (0,len(df)):\n",
    "    df['From'][i]=df['From'][i].replace('United Kingdom','UK')  \n",
    "    df['From'][i]=df['From'][i].replace('United Arab Emirates','UAE')\n",
    "    df['To'][i]=df['To'][i].replace('United Kingdom','UK')\n",
    "    df['To'][i]=df['To'][i].replace('United Arab Emirates','UAE')\n",
    "    \n",
    "    # Here in record1, we create the Corpus required to know the arrival time, departure time of bus/plane from onne place to another\n",
    "    record1+=\"Bus from \"+df['From'][i]+\" to \"+df['To'][i]+\" arrives at \"+df['Arrival Time'][i]+\" and departs at \"+df['Departure Time'][i]+\". \"\n",
    "    \n",
    "print(record1)"
   ]
  },
  {
   "cell_type": "code",
   "execution_count": null,
   "id": "53efd76a",
   "metadata": {
    "id": "53efd76a",
    "outputId": "df0f4b71-1b72-4b49-c1b5-8ee8690f5fff"
   },
   "outputs": [
    {
     "name": "stdout",
     "output_type": "stream",
     "text": [
      "There are 2 buses from india. There are 13 buses from Rwanda. There are 4 buses from UK. There are 6 buses from UAE. There are 15 buses from Mexico. There are 9 buses from Hungary. There are 10 buses from Qatar. There are 11 buses from Jamaica. There are 11 buses from Holy See (Vatican City State). There are 10 buses from Samoa. There are 12 buses from Kazakhstan. There are 12 buses from South Georgia and the South Sandwich Islands. There are 9 buses from Congo. There are 5 buses from French Guiana. There are 10 buses from Malawi. There are 9 buses from Ethiopia. There are 8 buses from Norway. There are 10 buses from Bangladesh. There are 6 buses from Saint Kitts and Nevis. There are 13 buses from Yemen. There are 10 buses from Cuba. There are 9 buses from French Southern Territories. There are 8 buses from Chile. There are 5 buses from Palau. There are 5 buses from Tunisia. There are 8 buses from Liechtenstein. There are 6 buses from Mauritania. There are 5 buses from Mozambique. \n",
      "\n",
      "\n",
      "bus from india goes to places india, india, . bus from Rwanda goes to places Switzerland, Angola, Kenya, Qatar, Sweden, New Caledonia, Sweden, Kenya, Kiribati, Qatar, Montenegro, Niue, Indonesia, . bus from UK goes to places United States Minor Outlying Islands, Finland, Bulgaria, Bulgaria, . bus from UAE goes to places Bangladesh, Montenegro, Peru, Finland, Yemen, Liechtenstein, . bus from Mexico goes to places Australia, Canada, Sweden, New Caledonia, Indonesia, Bouvet Island, South Georgia and the South Sandwich Islands, Afghanistan, Peru, Guyana, New Caledonia, Bangladesh, Bulgaria, Kiribati, Kiribati, . bus from Hungary goes to places Angola, New Caledonia, Montserrat, South Georgia and the South Sandwich Islands, Angola, United States Minor Outlying Islands, Peru, Montenegro, Guyana, . bus from Qatar goes to places Afghanistan, Finland, Qatar, Yemen, Liechtenstein, Switzerland, Afghanistan, Niue, Indonesia, Bouvet Island, . bus from Jamaica goes to places Uganda, Switzerland, Afghanistan, Bulgaria, Sweden, Peru, Sweden, Yemen, New Caledonia, Bangladesh, Peru, . bus from Holy See (Vatican City State) goes to places Montserrat, Yemen, Finland, South Georgia and the South Sandwich Islands, Qatar, Bangladesh, South Georgia and the South Sandwich Islands, Switzerland, Switzerland, Bouvet Island, Montserrat, . bus from Samoa goes to places Liechtenstein, Montenegro, Peru, Bangladesh, Qatar, South Georgia and the South Sandwich Islands, Canada, Kenya, New Caledonia, Bangladesh, . bus from Kazakhstan goes to places Bouvet Island, Slovenia, Peru, Peru, United States Minor Outlying Islands, Bulgaria, New Caledonia, South Georgia and the South Sandwich Islands, Canada, Guyana, Kenya, Peru, . bus from South Georgia and the South Sandwich Islands goes to places Liechtenstein, United States Minor Outlying Islands, Indonesia, Sweden, Indonesia, Yemen, Indonesia, Indonesia, Slovenia, Liechtenstein, Guyana, Guyana, . bus from Congo goes to places Liechtenstein, Niue, Switzerland, Bouvet Island, Montserrat, Montenegro, Peru, Kiribati, Kiribati, . bus from French Guiana goes to places Montserrat, Kiribati, Guyana, Yemen, Finland, . bus from Malawi goes to places Afghanistan, Bulgaria, Uganda, Uganda, Indonesia, Indonesia, Bulgaria, Australia, New Caledonia, Liechtenstein, . bus from Ethiopia goes to places Guyana, New Caledonia, Indonesia, United States Minor Outlying Islands, Australia, Bouvet Island, United States Minor Outlying Islands, Kenya, Switzerland, . bus from Norway goes to places New Caledonia, Montserrat, Peru, Montserrat, Slovenia, Bangladesh, Liechtenstein, Uganda, . bus from Bangladesh goes to places Bangladesh, Liechtenstein, New Caledonia, Peru, United States Minor Outlying Islands, Switzerland, Indonesia, Afghanistan, Afghanistan, Switzerland, . bus from Saint Kitts and Nevis goes to places Indonesia, New Caledonia, South Georgia and the South Sandwich Islands, Peru, Niue, Kenya, . bus from Yemen goes to places New Caledonia, Uganda, Angola, Niue, Kiribati, South Georgia and the South Sandwich Islands, Australia, Kiribati, Uganda, Montserrat, Bangladesh, Qatar, Guyana, . bus from Cuba goes to places Peru, Montenegro, Finland, Qatar, Montenegro, Guyana, Australia, Yemen, Montenegro, Yemen, . bus from French Southern Territories goes to places Peru, Liechtenstein, Bouvet Island, Guyana, Peru, Qatar, Liechtenstein, Bulgaria, Bulgaria, . bus from Chile goes to places Afghanistan, Guyana, Finland, Montserrat, Bangladesh, Canada, Switzerland, Qatar, . bus from Palau goes to places Yemen, Guyana, Montserrat, Bouvet Island, Sweden, . bus from Tunisia goes to places Canada, Montenegro, Qatar, South Georgia and the South Sandwich Islands, Australia, . bus from Liechtenstein goes to places Bangladesh, Finland, Peru, Finland, Uganda, United States Minor Outlying Islands, Montserrat, Qatar, . bus from Mauritania goes to places Angola, Bouvet Island, Peru, Indonesia, Canada, Indonesia, . bus from Mozambique goes to places Qatar, Bouvet Island, Canada, Indonesia, Guyana, . \n"
     ]
    }
   ],
   "source": [
    "record2=\"\"\n",
    "record3=\"\"\n",
    "from_d={}\n",
    "to_d={}\n",
    "\n",
    "for i in range(0,len(df)):\n",
    "    if(df['From'][i] not in from_d.keys()):\n",
    "        from_d[df['From'][i]] = list([df['To'][i]])\n",
    "    else:\n",
    "        from_d[df['From'][i]].append(df['To'][i])\n",
    "\n",
    "for i in from_d:\n",
    "    txt = \"\"\n",
    "    for j in from_d[i]:\n",
    "        txt+= j+\", \"\n",
    "    # In record2, we create a Corpus which contains no. of bus/plane from a place(destination)    \n",
    "    record2+=\"There are \"+str(len(from_d[i]))+\" buses from \" + i +\". \"\n",
    "    # In record3, we create a Corpus which contains all the destinations of each bus/train\n",
    "    record3+= \"bus from \"+i +\" goes to places \"+txt+\". \"\n",
    "    \n",
    "    \n",
    "print(record2)\n",
    "print(\"\\n\")\n",
    "print(record3)"
   ]
  },
  {
   "cell_type": "markdown",
   "id": "4QxAp7lgkU_w",
   "metadata": {
    "id": "4QxAp7lgkU_w"
   },
   "source": [
    "# BusBuddy Code\n",
    "---\n",
    "\n"
   ]
  },
  {
   "cell_type": "code",
   "execution_count": null,
   "id": "VJzxVwlqkoR6",
   "metadata": {
    "id": "VJzxVwlqkoR6"
   },
   "outputs": [],
   "source": [
    "class ChatBot():\n",
    "    def __init__(self, name):\n",
    "        print(\"----- Starting up\", name, \"-----\")\n",
    "        self.name = name\n",
    "    def speech_to_text(self):\n",
    "        recognizer = sr.Recognizer()\n",
    "        with sr.Microphone() as mic:\n",
    "            \n",
    "            print(\"Listening...\")\n",
    "            audio = recognizer.adjust_for_ambient_noise(mic)\n",
    "            audio = recognizer.listen(mic)\n",
    "            self.text=\"ERROR\"\n",
    "        try:\n",
    "            self.text = recognizer.recognize_google(audio)\n",
    "            print(\"Me  --> \", self.text)\n",
    "        except:\n",
    "            print(\"Me  -->  ERROR\")\n",
    "    @staticmethod\n",
    "    def text_to_speech(text):     \n",
    "        print(\"Dev --> \", text)              \n",
    "        speaker = gTTS(text=text, lang=\"en\", slow=False)\n",
    "        speaker.save(\"res.mp3\")\n",
    "        statbuf = os.stat(\"res.mp3\")\n",
    "        mbytes = statbuf.st_size / 1024\n",
    "        duration = mbytes / 200\n",
    "        os.system('start res.mp3')  #if you are using mac->afplay or else for windows->start\n",
    "        # os.system(\"close res.mp3\")\n",
    "        time.sleep(int(50*duration))\n",
    "        os.remove(\"res.mp3\")\n",
    "    def wake_up(self, text):\n",
    "        return True if self.name in text.lower() else False\n",
    "    @staticmethod\n",
    "    def action_time():\n",
    "        return datetime.datetime.now().time().strftime('%H:%M')"
   ]
  },
  {
   "cell_type": "markdown",
   "id": "iVZ7-oxCkrCW",
   "metadata": {
    "id": "iVZ7-oxCkrCW"
   },
   "source": [
    "# Running BusBuddy \n",
    "\n",
    "---\n",
    "\n"
   ]
  },
  {
   "cell_type": "code",
   "execution_count": null,
   "id": "7c080992",
   "metadata": {
    "id": "7c080992",
    "outputId": "9e089112-4821-4e96-91a1-21dcc4992ef8"
   },
   "outputs": [
    {
     "name": "stdout",
     "output_type": "stream",
     "text": [
      "----- Starting up dev -----\n",
      "Listening...\n",
      "Me  -->  hi Dev\n",
      "Dev -->  Hello I am Dave the AI, what can I do for you?\n",
      "Listening...\n",
      "Me  -->  ERROR\n",
      "Dev -->  Sorry, come again?\n",
      "Listening...\n",
      "Me  -->  when will the bus from UAE to Bangladesh arrive\n"
     ]
    },
    {
     "name": "stderr",
     "output_type": "stream",
     "text": [
      "C:\\Users\\jayas\\anaconda3\\lib\\site-packages\\numpy\\core\\_asarray.py:102: VisibleDeprecationWarning: Creating an ndarray from ragged nested sequences (which is a list-or-tuple of lists-or-tuples-or ndarrays with different lengths or shapes) is deprecated. If you meant to do this, you must specify 'dtype=object' when creating the ndarray.\n",
      "  return array(a, dtype, copy=False, order=order)\n"
     ]
    },
    {
     "name": "stdout",
     "output_type": "stream",
     "text": [
      "Dev -->  11:55 PM\n",
      "Listening...\n",
      "Me  -->  ERROR\n",
      "Dev -->  Sorry, come again?\n",
      "Listening...\n",
      "Me  -->  when will the bus from Qatar to Afghanistan arrived\n"
     ]
    },
    {
     "name": "stderr",
     "output_type": "stream",
     "text": [
      "C:\\Users\\jayas\\anaconda3\\lib\\site-packages\\numpy\\core\\_asarray.py:102: VisibleDeprecationWarning: Creating an ndarray from ragged nested sequences (which is a list-or-tuple of lists-or-tuples-or ndarrays with different lengths or shapes) is deprecated. If you meant to do this, you must specify 'dtype=object' when creating the ndarray.\n",
      "  return array(a, dtype, copy=False, order=order)\n"
     ]
    },
    {
     "name": "stdout",
     "output_type": "stream",
     "text": [
      "Dev -->  1:40 PM\n",
      "Listening...\n",
      "Me  -->  how many buses are there from Qatar\n",
      "Dev -->  10\n",
      "Listening...\n",
      "Me  -->  something wise\n",
      "Dev -->  10\n",
      "Listening...\n",
      "Me  -->  close\n",
      "Dev -->  Goodbye\n",
      "----- Closing down Dev -----\n"
     ]
    }
   ],
   "source": [
    "# Running the AI\n",
    "if __name__ == \"__main__\":\n",
    "    ai = ChatBot(name=\"dev\")\n",
    "    os.environ[\"TOKENIZERS_PARALLELISM\"] = \"true\"\n",
    "    ex=True\n",
    "    while ex:\n",
    "        ai.speech_to_text()\n",
    "        ## wake up\n",
    "        if ai.wake_up(ai.text) is True:\n",
    "            res = \"Hello I am Dave the AI, what can I do for you?\"\n",
    "        ## action time\n",
    "        elif \"date\" and \"yesterday\" in ai.text:\n",
    "           res = ai.action_()\n",
    "        ## respond politely\n",
    "        \n",
    "        elif any(i in ai.text for i in [\"thank\",\"thanks\"]):\n",
    "            res = np.random.choice([\"you're welcome!\",\"anytime!\",\"no problem!\",\"cool!\",\"I'm here if you need me!\",\"mention not\"])\n",
    "        elif any(i in ai.text for i in [\"exit\",\"close\"]):\n",
    "            res = np.random.choice([\"Tata\",\"Have a good day\",\"Bye\",\"Goodbye\",\"Hope to meet soon\",\"peace out!\"])\n",
    "            ex=False\n",
    "        ## conversation\n",
    "        else:   \n",
    "            if ai.text==\"ERROR\":\n",
    "                res=\"Sorry, come again?\"\n",
    "            else:\n",
    "\n",
    "                # \"test-squad-trained\" is a pre-trained FineTune_Distilbert model which should be downloaded from this repository \"https://github.com/Raagulbharatwaj/BERT/blob/2408a6487b44fb19b5f797261b4e9f139de963ec/BERT%20For%20Question%20answering/FineTune_Distilbert.ipynb\"\n",
    "\n",
    "                model_checkpoint = \"C:\\\\Users\\\\jayas\\\\Downloads\\\\test-squad-trained\\\\test-squad-trained\" \n",
    "                question_answerer = pipeline(\"question-answering\", model=model_checkpoint)\n",
    "                question = ai.text\n",
    "                \n",
    "                \n",
    "                if(any(i in ai.text for i in [\"how many\",\"how\",\"many\",\"number of buses\"])):\n",
    "                    reply=question_answerer(question=question, context=record2)\n",
    "                    if(reply['score'] < 0.2):\n",
    "                        res=\"Sorry, come again?\"\n",
    "                    else:\n",
    "                        res = reply['answer'] \n",
    "                                       \n",
    "                elif(any(i in ai.text for i in [\"goes\",\"go\"])):\n",
    "                    reply=question_answerer(question=question, context=record3)\n",
    "                    if(reply['score'] < 0.0):\n",
    "                        res=\"Sorry, come again?\"\n",
    "                    else:\n",
    "                        res = reply['answer'] \n",
    "                               \n",
    "                elif(any(i in ai.text for i in [\"when\",\"bus\"])):\n",
    "                    reply=question_answerer(question=question, context=record1)\n",
    "                    if(reply['score'] < 0.2):\n",
    "                        res=\"Sorry, come again?\"\n",
    "                    else:\n",
    "                        res = reply['answer'] \n",
    "                        \n",
    "        ai.text_to_speech(res)\n",
    "    print(\"----- Closing down Dev -----\")\n",
    "    "
   ]
  }
 ],
 "metadata": {
  "colab": {
   "provenance": []
  },
  "kernelspec": {
   "display_name": "Python 3 (ipykernel)",
   "language": "python",
   "name": "python3"
  },
  "language_info": {
   "codemirror_mode": {
    "name": "ipython",
    "version": 3
   },
   "file_extension": ".py",
   "mimetype": "text/x-python",
   "name": "python",
   "nbconvert_exporter": "python",
   "pygments_lexer": "ipython3",
   "version": "3.8.5"
  }
 },
 "nbformat": 4,
 "nbformat_minor": 5
}
